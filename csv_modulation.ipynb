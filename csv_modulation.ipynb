{
 "cells": [
  {
   "cell_type": "code",
   "execution_count": 2,
   "metadata": {},
   "outputs": [],
   "source": [
    "import pandas as pd\n"
   ]
  },
  {
   "cell_type": "code",
   "execution_count": 4,
   "metadata": {},
   "outputs": [],
   "source": [
    "#for multiple files\n",
    "for i in range(700,751):\n",
    "    input_file_name=f\"C:/Users/hp/Downloads/Data/Topology csv files1/CaseNum_{i}Results.csv\"\n",
    "    df = pd.read_csv(input_file_name,index_col=False)\n",
    "    df['V1']=0\n",
    "    df['PI7']=0\n",
    "    df['QI7']=0\n",
    "    df=df[['V1','PI2','PI3','PI7','PI8','PI10','PI11','PI12','PI14','QI2','QI3','QI7','QI8','QI10','QI11','QI12','QI14','PF12','PF23','PF42','PF47','PF49','PF52','PF54','PF56','PF613','PF79','PF116','PF1213','QF12','QF23','QF42','QF47','QF49','QF52','QF54','QF56','QF613','QF79','QF116','QF1213']]\n",
    "    df=df/100\n",
    "    df['V1']=1\n",
    "    output_file_name = f\"C:/Users/hp/Downloads/Data/Topology csv files1_modified/CaseNum_{i}Results_modified.csv\"\n",
    "    df.to_csv(output_file_name,index=False)\n"
   ]
  }
 ],
 "metadata": {
  "kernelspec": {
   "display_name": "base",
   "language": "python",
   "name": "python3"
  },
  "language_info": {
   "codemirror_mode": {
    "name": "ipython",
    "version": 3
   },
   "file_extension": ".py",
   "mimetype": "text/x-python",
   "name": "python",
   "nbconvert_exporter": "python",
   "pygments_lexer": "ipython3",
   "version": "3.11.5"
  }
 },
 "nbformat": 4,
 "nbformat_minor": 2
}
