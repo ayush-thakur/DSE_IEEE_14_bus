{
 "cells": [
  {
   "cell_type": "code",
   "execution_count": 2,
   "metadata": {},
   "outputs": [],
   "source": [
    "import pandas as pd\n",
    "import numpy as np\n",
    "import matplotlib.pyplot as plot"
   ]
  },
  {
   "cell_type": "code",
   "execution_count": 1,
   "metadata": {},
   "outputs": [
    {
     "ename": "TypeError",
     "evalue": "list.append() takes exactly one argument (0 given)",
     "output_type": "error",
     "traceback": [
      "\u001b[1;31m---------------------------------------------------------------------------\u001b[0m",
      "\u001b[1;31mTypeError\u001b[0m                                 Traceback (most recent call last)",
      "Cell \u001b[1;32mIn[1], line 10\u001b[0m\n\u001b[0;32m      7\u001b[0m y_g_wls\u001b[38;5;241m=\u001b[39m[]\n\u001b[0;32m      9\u001b[0m \u001b[38;5;28;01mfor\u001b[39;00m i \u001b[38;5;129;01min\u001b[39;00m \u001b[38;5;28mrange\u001b[39m(\u001b[38;5;241m1\u001b[39m,\u001b[38;5;241m1000\u001b[39m):\n\u001b[1;32m---> 10\u001b[0m     y_g_true\u001b[38;5;241m.\u001b[39mappend() \u001b[38;5;66;03m# insert true value for bus 1\u001b[39;00m\n\u001b[0;32m     11\u001b[0m     y_g_ekf\u001b[38;5;241m.\u001b[39mappend() \u001b[38;5;66;03m# insert true value for bus 1\u001b[39;00m\n\u001b[0;32m     12\u001b[0m     y_g_ukf\u001b[38;5;241m.\u001b[39mappend() \u001b[38;5;66;03m# insert true value for bus 1\u001b[39;00m\n",
      "\u001b[1;31mTypeError\u001b[0m: list.append() takes exactly one argument (0 given)"
     ]
    }
   ],
   "source": [
    "#for actual data, i.e , true data\n",
    "#we will consider the bus 1 for now at each time interval\n",
    "x_g=[]\n",
    "y_g_true=[]\n",
    "y_g_ekf=[]\n",
    "y_g_ukf=[]\n",
    "y_g_wls=[]\n",
    "\n",
    "for i in range(1,1000):\n",
    "    y_g_true.append() # insert true value for bus 1\n",
    "    y_g_ekf.append() # insert measured ekf value for bus 1\n",
    "    y_g_ukf.append() # insert measured ukf value for bus 1\n",
    "    y_g_wls.append() # insert measured wls value for bus 1\n",
    "    x_g.append(i) # time interval\n",
    "\n",
    "plot.plot(x_g,y_g_true,label=\"true values\")\n",
    "plot.plot(x_g,y_g_wls,label=\"wls\")\n",
    "plot.plot(x_g,y_g_ekf,label=\"ekf\")\n",
    "plot.plot(x_g,y_g_ukf,label=\"ukf\")"
   ]
  }
 ],
 "metadata": {
  "kernelspec": {
   "display_name": "base",
   "language": "python",
   "name": "python3"
  },
  "language_info": {
   "codemirror_mode": {
    "name": "ipython",
    "version": 3
   },
   "file_extension": ".py",
   "mimetype": "text/x-python",
   "name": "python",
   "nbconvert_exporter": "python",
   "pygments_lexer": "ipython3",
   "version": "3.11.5"
  }
 },
 "nbformat": 4,
 "nbformat_minor": 2
}
